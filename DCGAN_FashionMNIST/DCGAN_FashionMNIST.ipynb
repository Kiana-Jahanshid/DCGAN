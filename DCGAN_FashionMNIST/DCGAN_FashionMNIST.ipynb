{
  "nbformat": 4,
  "nbformat_minor": 0,
  "metadata": {
    "colab": {
      "provenance": [],
      "gpuType": "T4"
    },
    "kernelspec": {
      "name": "python3",
      "display_name": "Python 3"
    },
    "language_info": {
      "name": "python"
    },
    "accelerator": "GPU"
  },
  "cells": [
    {
      "cell_type": "code",
      "execution_count": 37,
      "metadata": {
        "id": "89Qjuckpt7Ku"
      },
      "outputs": [],
      "source": [
        "import tensorflow as tf\n",
        "import glob\n",
        "import imageio\n",
        "import matplotlib.pyplot as plt\n",
        "import numpy as np\n",
        "import os\n",
        "import PIL\n",
        "from keras import layers\n",
        "import time\n",
        "from IPython import display"
      ]
    },
    {
      "cell_type": "markdown",
      "source": [
        "# we don't need test data in GAN networks :\n"
      ],
      "metadata": {
        "id": "TmlO4fdxwL1a"
      }
    },
    {
      "cell_type": "code",
      "source": [
        "# import MNIST dataset\n",
        "#(train_images , train_labels) ,(test_images,test_labels) = tf.keras.datasets.mnist.load_data()\n",
        "# in training GAN networks , there is no need to test data ,\n",
        "# so we replace test data(test_images,test_labels) with (_,_)\n",
        "\n",
        "(train_images , train_labels) ,(_,_) = tf.keras.datasets.fashion_mnist.load_data()"
      ],
      "metadata": {
        "colab": {
          "base_uri": "https://localhost:8080/"
        },
        "id": "87I1rlmhuNe-",
        "outputId": "73959f1c-79b7-4060-c025-7a542a86005c"
      },
      "execution_count": 57,
      "outputs": [
        {
          "output_type": "stream",
          "name": "stdout",
          "text": [
            "Downloading data from https://storage.googleapis.com/tensorflow/tf-keras-datasets/train-labels-idx1-ubyte.gz\n",
            "29515/29515 [==============================] - 0s 0us/step\n",
            "Downloading data from https://storage.googleapis.com/tensorflow/tf-keras-datasets/train-images-idx3-ubyte.gz\n",
            "26421880/26421880 [==============================] - 2s 0us/step\n",
            "Downloading data from https://storage.googleapis.com/tensorflow/tf-keras-datasets/t10k-labels-idx1-ubyte.gz\n",
            "5148/5148 [==============================] - 0s 0us/step\n",
            "Downloading data from https://storage.googleapis.com/tensorflow/tf-keras-datasets/t10k-images-idx3-ubyte.gz\n",
            "4422102/4422102 [==============================] - 1s 0us/step\n"
          ]
        }
      ]
    },
    {
      "cell_type": "markdown",
      "source": [
        "# Normalizing pixels :"
      ],
      "metadata": {
        "id": "Zu3yxp7ZyM2X"
      }
    },
    {
      "cell_type": "code",
      "source": [
        "# reshaping images to size 28*28 , and bc they are grayscale we consider only one channel for them .\n",
        "train_images = train_images.reshape(train_images.shape[0] ,28,28,1).astype(\"float32\")\n",
        "# we have 2 types of NORMALIZING :\n",
        "# divide pixels value into 255 ---> result will be in range of [0,1]\n",
        "# subtract 255/2=127.5 from pixels then divide them to 127.5\n",
        "train_images = (train_images -127.5) / 127.5 #normalize images to [-1 , 1]"
      ],
      "metadata": {
        "id": "XTpWynuOvX3_"
      },
      "execution_count": 58,
      "outputs": []
    },
    {
      "cell_type": "markdown",
      "source": [
        "# Hyperparameters :"
      ],
      "metadata": {
        "id": "RND3OINbyWG0"
      }
    },
    {
      "cell_type": "code",
      "source": [
        "BUFFER_SIZE = 60000\n",
        "BATCH_SIZE = 256"
      ],
      "metadata": {
        "id": "bfSTcpPCyLTL"
      },
      "execution_count": 59,
      "outputs": []
    },
    {
      "cell_type": "markdown",
      "source": [
        "# shuffle train data & define batch :"
      ],
      "metadata": {
        "id": "tTJldX0Vypp6"
      }
    },
    {
      "cell_type": "code",
      "source": [
        "train_dataset = tf.data.Dataset.from_tensor_slices(train_images).shuffle(BUFFER_SIZE).batch(BATCH_SIZE)"
      ],
      "metadata": {
        "id": "pDy1ds-DynNT"
      },
      "execution_count": 60,
      "outputs": []
    },
    {
      "cell_type": "markdown",
      "source": [
        "# Create the models :"
      ],
      "metadata": {
        "id": "Lj98k-8pSvGk"
      }
    },
    {
      "cell_type": "markdown",
      "source": [
        "# discriminator : (convolution)"
      ],
      "metadata": {
        "id": "BIZUm8lrS1bE"
      }
    },
    {
      "cell_type": "code",
      "source": [
        "def make_discriminator_model():\n",
        "  model = tf.keras.Sequential()\n",
        "  model.add(layers.Conv2D(64 , (5,5) , strides=(2,2) , padding=\"same\" , input_shape=[28,28,1]))\n",
        "\n",
        "  model.add(layers.LeakyReLU())\n",
        "  model.add(layers.Dropout(0.3))\n",
        "\n",
        "  model.add(layers.Conv2D(filters=128 , kernel_size=(5,5) , strides=(2,2) ,padding=\"same\"))\n",
        "  model.add(layers.LeakyReLU())\n",
        "  model.add(layers.Dropout(0.3))\n",
        "\n",
        "  model.add(layers.Flatten())\n",
        "  model.add(layers.Dense(2)) # 2 neuron in last layer bc of classification (real / fake)\n",
        "\n",
        "  return model\n"
      ],
      "metadata": {
        "id": "KEdmeXo-zYvf"
      },
      "execution_count": 61,
      "outputs": []
    },
    {
      "cell_type": "markdown",
      "source": [
        "# GENERATOR :"
      ],
      "metadata": {
        "id": "BqFKigF9VzPm"
      }
    },
    {
      "cell_type": "code",
      "source": [
        "def make_generator_model():\n",
        "  model = tf.keras.Sequential()\n",
        "  # here in first layer , we have dense\n",
        "  model.add(layers.Dense(7*7*256 , use_bias=False , input_shape=(100, )))\n",
        "  model.add(layers.BatchNormalization())\n",
        "  model.add(layers.LeakyReLU())\n",
        "  model.add(layers.Reshape((7,7,256)))\n",
        "\n",
        "  # deconvolution\n",
        "  model.add(layers.Conv2DTranspose(filters=128 , kernel_size=(5,5) , strides=(1,1) ,padding=\"same\" , use_bias=False))\n",
        "  model.add(layers.BatchNormalization())\n",
        "  model.add(layers.LeakyReLU())\n",
        "\n",
        "  model.add(layers.Conv2DTranspose(filters=64 , kernel_size=(5,5) , strides=(2,2) ,padding=\"same\" , use_bias=False))\n",
        "  model.add(layers.BatchNormalization())\n",
        "  model.add(layers.LeakyReLU())\n",
        "\n",
        "  # here in last layer , we have an image\n",
        "  model.add(layers.Conv2DTranspose(filters=1 , kernel_size=(5,5) , strides=(2,2) ,padding=\"same\" , use_bias=False ,activation=\"tanh\"))\n",
        "\n",
        "  return model"
      ],
      "metadata": {
        "id": "2aO_VTwsSuhY"
      },
      "execution_count": 62,
      "outputs": []
    },
    {
      "cell_type": "code",
      "source": [
        "generator = make_generator_model()\n",
        "noise = tf.random.normal((1,100))\n",
        "noise"
      ],
      "metadata": {
        "colab": {
          "base_uri": "https://localhost:8080/"
        },
        "id": "1C3077Qcbd2s",
        "outputId": "0f94b3c4-f9e0-47f8-bd9f-0e3d52a263e1"
      },
      "execution_count": 63,
      "outputs": [
        {
          "output_type": "execute_result",
          "data": {
            "text/plain": [
              "<tf.Tensor: shape=(1, 100), dtype=float32, numpy=\n",
              "array([[ 0.31369653, -0.18337747,  1.3157607 , -3.2841277 ,  0.07395915,\n",
              "        -1.1508685 ,  1.2574071 ,  0.08948082,  0.05726276, -1.0819556 ,\n",
              "        -1.4578966 , -0.27657372,  2.4035318 , -0.87714344, -0.10512252,\n",
              "         0.7808154 ,  0.3722419 , -1.1333437 ,  0.09365733,  0.03568621,\n",
              "         0.52052426,  0.8881117 , -0.89259744,  1.3910717 ,  0.27201492,\n",
              "        -0.5987703 ,  0.37061   ,  0.46662977,  0.474629  , -0.08627438,\n",
              "        -1.780847  ,  1.9724641 , -1.1396561 ,  2.0505564 ,  0.85834414,\n",
              "         0.4647732 , -0.55310214,  1.6507801 ,  0.5625467 , -1.1741287 ,\n",
              "        -0.5029736 ,  0.14002812,  1.0895455 ,  0.66702205,  0.5223008 ,\n",
              "        -0.6352302 , -1.0129697 ,  0.13792993,  2.550946  , -0.911993  ,\n",
              "        -0.00506175, -1.3950534 ,  1.3778334 ,  0.80445945, -1.2246727 ,\n",
              "        -0.6456322 ,  0.8420619 , -1.6998655 ,  0.9817112 , -1.6628721 ,\n",
              "        -0.7815726 ,  1.359758  ,  0.95051646,  1.4261762 , -1.1046456 ,\n",
              "         0.02309022, -0.9838    , -0.20313896, -0.368915  ,  0.08724936,\n",
              "         0.397753  ,  1.1102135 ,  0.96599895,  0.92114997, -0.30325645,\n",
              "         0.38158998,  0.9620542 ,  0.44825348, -0.16057885,  0.8389433 ,\n",
              "         0.6553368 ,  1.148676  ,  1.1695181 , -0.62515074, -0.15539047,\n",
              "         0.73485804,  2.0313857 ,  0.49633634, -1.389202  , -0.00576442,\n",
              "        -2.7301288 , -0.5940464 ,  0.01654592,  0.7603809 , -1.1794697 ,\n",
              "        -0.05645946, -0.913509  ,  1.5496724 ,  2.170586  , -1.4045966 ]],\n",
              "      dtype=float32)>"
            ]
          },
          "metadata": {},
          "execution_count": 63
        }
      ]
    },
    {
      "cell_type": "markdown",
      "source": [
        "# input of the GAN is noise"
      ],
      "metadata": {
        "id": "G7BYsxvE79rf"
      }
    },
    {
      "cell_type": "code",
      "source": [
        "# give noise to generator , and want an output from it without any training\n",
        "generated_image = generator(noise , training=False)"
      ],
      "metadata": {
        "id": "9CVrt3H-7U44"
      },
      "execution_count": 64,
      "outputs": []
    },
    {
      "cell_type": "code",
      "source": [
        "plt.imshow(generated_image[0 , : , : , 0] , cmap=\"gray\")"
      ],
      "metadata": {
        "colab": {
          "base_uri": "https://localhost:8080/",
          "height": 447
        },
        "id": "nSBxolqE74es",
        "outputId": "e5f16a4e-4f18-4689-ce45-858fe6892016"
      },
      "execution_count": 65,
      "outputs": [
        {
          "output_type": "execute_result",
          "data": {
            "text/plain": [
              "<matplotlib.image.AxesImage at 0x7b93b6e3c430>"
            ]
          },
          "metadata": {},
          "execution_count": 65
        },
        {
          "output_type": "display_data",
          "data": {
            "text/plain": [
              "<Figure size 640x480 with 1 Axes>"
            ],
            "image/png": "[encoded data removed]"
          },
          "metadata": {}
        }
      ]
    },
    {
      "cell_type": "markdown",
      "source": [
        "# it's random Because it has not yet been trained .\n",
        "and generator's weights are random ."
      ],
      "metadata": {
        "id": "lKJ_XOEB82HI"
      }
    },
    {
      "cell_type": "markdown",
      "source": [
        "## call discriminator function :"
      ],
      "metadata": {
        "id": "ZuSxEVBK9hZs"
      }
    },
    {
      "cell_type": "code",
      "source": [
        "discriminator  = make_discriminator_model()\n",
        "\n",
        "# now give this random image to discriminator :\n",
        "# it will also give a random answer , bc its not been trained yet\n",
        "decision = discriminator(generated_image)\n",
        "decision\n",
        "\n",
        "# if decision > 0.5  = real\n",
        "# if decision < 0.5  = fake\n",
        "\n",
        "# so   :\n",
        "# discriminator says that generated image is fake image"
      ],
      "metadata": {
        "colab": {
          "base_uri": "https://localhost:8080/"
        },
        "id": "3_Cr4YyG80I1",
        "outputId": "2ff2f18e-b468-411a-a828-905256b8cc37"
      },
      "execution_count": 66,
      "outputs": [
        {
          "output_type": "execute_result",
          "data": {
            "text/plain": [
              "<tf.Tensor: shape=(1, 2), dtype=float32, numpy=array([[-0.00257308,  0.00253545]], dtype=float32)>"
            ]
          },
          "metadata": {},
          "execution_count": 66
        }
      ]
    },
    {
      "cell_type": "markdown",
      "source": [
        "# both of the discriminator and generator have to be trained , to give true outputs"
      ],
      "metadata": {
        "id": "fN_G-XdkBN0C"
      }
    },
    {
      "cell_type": "markdown",
      "source": [
        "we compute loss from discriminator output , loss should be binarycrossentropy , bc its a classification problem .\n",
        "\n",
        "categoricalcrossentropy is for multiple class classification."
      ],
      "metadata": {
        "id": "AEeZMke4krsU"
      }
    },
    {
      "cell_type": "markdown",
      "source": [
        "although , we can also say this ::\n",
        "bc of 2 class , i want 2 neurons in last layer\n",
        "there for , we should use categoricalcrossentropy"
      ],
      "metadata": {
        "id": "ufyf4oMslk5r"
      }
    },
    {
      "cell_type": "markdown",
      "source": [
        "لاسی که برای دیسکریمینیتور قراره حساب بشه‌\n",
        "‌قراره یک کراس انتروپی باشه که روی دیتاهای ریل محاسبه شده و یک کراس انتروپی باشه که روی دیتاهای فیک محاسبه شده و قراره که اینا باهم جمع بشن\n"
      ],
      "metadata": {
        "id": "hIcUkEZxmNZc"
      }
    },
    {
      "cell_type": "code",
      "source": [
        "cross_entropy = tf.keras.losses.BinaryCrossentropy(from_logits=True)\n",
        "\n",
        "def discriminator_loss(real_output , fake_output):\n",
        "  real_loss = cross_entropy( tf.ones_like(real_output), real_output)\n",
        "  fake_loss = cross_entropy(tf.zeros_like(fake_output) , fake_output)\n",
        "  total_loss = real_loss + fake_loss\n",
        "  return total_loss\n",
        "\n",
        "#   total_loss is discriminator loss\n",
        "\n",
        "\n",
        "def generator_loss(fake_output):\n",
        "  return cross_entropy( tf.ones_like(fake_output), fake_output)"
      ],
      "metadata": {
        "id": "4jHAzdntBKYP"
      },
      "execution_count": 67,
      "outputs": []
    },
    {
      "cell_type": "code",
      "source": [
        "generator_optimizer = tf.keras.optimizers.Adam(0.0001)\n",
        "\n",
        "discriminator_optimizer = tf.keras.optimizers.Adam(0.0001)"
      ],
      "metadata": {
        "id": "ocTEhFiHo4ru"
      },
      "execution_count": 68,
      "outputs": []
    },
    {
      "cell_type": "markdown",
      "source": [
        "# way to save train process in case of losing GPU while training ::\n",
        "create checkpoint"
      ],
      "metadata": {
        "id": "Mj0zAa_Upxl6"
      }
    },
    {
      "cell_type": "code",
      "source": [
        "checkpoint_dir = \"./training_checkpoints\"\n",
        "checkpoint_prefix = os.path.join(checkpoint_dir , \"chpt\")\n",
        "checkpoint = tf.train.Checkpoint(generator_optimizer = generator_optimizer ,\n",
        "                                 discriminator_optimizer= discriminator_optimizer ,\n",
        "                                 generator = generator ,\n",
        "                                 discriminator = discriminator)"
      ],
      "metadata": {
        "id": "BgU7neW5o4Y3"
      },
      "execution_count": 69,
      "outputs": []
    },
    {
      "cell_type": "markdown",
      "source": [
        "here we dont have accuracy , but we wnt to see real images in output"
      ],
      "metadata": {
        "id": "I8XU-iRsrlOy"
      }
    },
    {
      "cell_type": "code",
      "source": [
        "EPOCHS = 70\n",
        "noise_dimension = 100\n",
        "num_example_to_generate = 16\n",
        "\n",
        "# seed is a random array with dimansion of 7 * 100\n",
        "# we want to see outputs while training process\n",
        "seed = tf.random.normal([num_example_to_generate  ,  noise_dimension])"
      ],
      "metadata": {
        "id": "AiiLAffbo4RV"
      },
      "execution_count": 70,
      "outputs": []
    },
    {
      "cell_type": "code",
      "source": [
        "def generate_and_save_images(model, epoch, test_input):\n",
        "\n",
        "  predictions = model(test_input, training=False)\n",
        "  fig = plt.figure(figsize=(4, 4))\n",
        "\n",
        "  for i in range(predictions.shape[0]):\n",
        "      plt.subplot(4, 4, i+1)\n",
        "      plt.imshow(predictions[i, :, :, 0] * 127.5  + 127.5  , cmap=\"gray\")\n",
        "      plt.axis('off')\n",
        "\n",
        "  plt.savefig('image_at_epoch_{:04d}.png'.format(epoch))\n",
        "  plt.show()"
      ],
      "metadata": {
        "id": "4W11shVqxbhI"
      },
      "execution_count": 71,
      "outputs": []
    },
    {
      "cell_type": "code",
      "source": [
        "@tf.function\n",
        "def train_step(images):\n",
        "    noise = tf.random.normal([BATCH_SIZE, noise_dimension])\n",
        "\n",
        "    with tf.GradientTape() as gen_tape, tf.GradientTape() as disc_tape:\n",
        "        # some noises enter into generator network\n",
        "        # and some images will be generated\n",
        "        generated_images = generator(noise, training=True)\n",
        "\n",
        "        # with <<<< training=True >>>> , weights will be updated and gradients will be computed\n",
        "\n",
        "        # some real images enter into descriminator , and it learns them\n",
        "        real_output = discriminator(images, training=True)\n",
        "        # then , generated images , enter into descriminator , and it learns them\n",
        "        fake_output = discriminator(generated_images, training=True)\n",
        "\n",
        "        # fine tune training\n",
        "        #it will only learn fake outputs\n",
        "        gen_loss = generator_loss(fake_output)\n",
        "\n",
        "        # it should learn both real and fake\n",
        "        disc_loss = discriminator_loss(real_output, fake_output)\n",
        "\n",
        "    gradients_of_generator = gen_tape.gradient(gen_loss, generator.trainable_variables)\n",
        "    gradients_of_discriminator = disc_tape.gradient(disc_loss, discriminator.trainable_variables)\n",
        "\n",
        "    generator_optimizer.apply_gradients(zip(gradients_of_generator, generator.trainable_variables))\n",
        "    discriminator_optimizer.apply_gradients(zip(gradients_of_discriminator, discriminator.trainable_variables))\n",
        "\n",
        "\n",
        "\n",
        "def train(dataset, epochs):\n",
        "  for epoch in range(epochs):\n",
        "    start = time.time()\n",
        "    for image_batch in (dataset):\n",
        "      train_step(image_batch)\n",
        "\n",
        "    # for display output\n",
        "    # produce images for GIF\n",
        "    display.clear_output(wait=True)\n",
        "    generate_and_save_images(generator , epoch + 1 , seed)\n",
        "    # save model every 15 epochs\n",
        "    if (epoch + 1) % 15 ==0:\n",
        "      checkpoint.save(file_prefix = checkpoint_prefix)\n",
        "    print ('time for epoch {} is {} sec'.format(epoch + 1, time.time()-start))\n",
        "\n",
        "  display.clear_output(wait=True)\n",
        "  generate_and_save_images(generator , epochs , seed)\n",
        "\n",
        ""
      ],
      "metadata": {
        "id": "nlx0PU-Ho4Dq"
      },
      "execution_count": 72,
      "outputs": []
    },
    {
      "cell_type": "code",
      "source": [
        "train(train_dataset, EPOCHS)\n"
      ],
      "metadata": {
        "colab": {
          "base_uri": "https://localhost:8080/",
          "height": 345
        },
        "id": "s3DlTv4EzF04",
        "outputId": "6289f68a-13d9-488a-9b15-0991465672b3"
      },
      "execution_count": 73,
      "outputs": [
        {
          "output_type": "display_data",
          "data": {
            "text/plain": [
              "<Figure size 400x400 with 16 Axes>"
            ],
            "image/png": "[encoded data removed]"
          },
          "metadata": {}
        }
      ]
    },
    {
      "cell_type": "markdown",
      "source": [
        "# create a GIF file :"
      ],
      "metadata": {
        "id": "WrpwoKnt06Uh"
      }
    },
    {
      "cell_type": "code",
      "source": [
        "anim_file ='Fashion_mnist.gif'\n",
        "with imageio.get_writer(anim_file, mode='I') as writer:\n",
        "  filenames = glob.glob('image*.png')\n",
        "  filenames = sorted(filenames)\n",
        "  for filename in filenames:\n",
        "      image = imageio.imread(filename)\n",
        "      writer.append_data(image)\n",
        "  image = imageio.imread(filename)\n",
        "  writer.append_data(image)"
      ],
      "metadata": {
        "colab": {
          "base_uri": "https://localhost:8080/"
        },
        "id": "iUtqxI7505pd",
        "outputId": "3df4adfe-38d3-4b66-b72b-10e15c8dda8e"
      },
      "execution_count": 74,
      "outputs": [
        {
          "output_type": "stream",
          "name": "stderr",
          "text": [
            "<ipython-input-74-0253ab739745>:6: DeprecationWarning: Starting with ImageIO v3 the behavior of this function will switch to that of iio.v3.imread. To keep the current behavior (and make this warning disappear) use `import imageio.v2 as imageio` or call `imageio.v2.imread` directly.\n",
            "  image = imageio.imread(filename)\n",
            "<ipython-input-74-0253ab739745>:8: DeprecationWarning: Starting with ImageIO v3 the behavior of this function will switch to that of iio.v3.imread. To keep the current behavior (and make this warning disappear) use `import imageio.v2 as imageio` or call `imageio.v2.imread` directly.\n",
            "  image = imageio.imread(filename)\n"
          ]
        }
      ]
    }
  ]
}