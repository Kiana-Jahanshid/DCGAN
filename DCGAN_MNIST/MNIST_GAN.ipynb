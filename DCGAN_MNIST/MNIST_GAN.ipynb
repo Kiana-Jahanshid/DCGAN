{
  "nbformat": 4,
  "nbformat_minor": 0,
  "metadata": {
    "colab": {
      "provenance": [],
      "gpuType": "T4"
    },
    "kernelspec": {
      "name": "python3",
      "display_name": "Python 3"
    },
    "language_info": {
      "name": "python"
    },
    "accelerator": "GPU"
  },
  "cells": [
    {
      "cell_type": "code",
      "execution_count": 37,
      "metadata": {
        "id": "89Qjuckpt7Ku"
      },
      "outputs": [],
      "source": [
        "import tensorflow as tf\n",
        "import glob\n",
        "import imageio\n",
        "import matplotlib.pyplot as plt\n",
        "import numpy as np\n",
        "import os\n",
        "import PIL\n",
        "from keras import layers\n",
        "import time\n",
        "from IPython import display"
      ]
    },
    {
      "cell_type": "markdown",
      "source": [
        "# we don't need test data in GAN networks :\n"
      ],
      "metadata": {
        "id": "TmlO4fdxwL1a"
      }
    },
    {
      "cell_type": "code",
      "source": [
        "# import MNIST dataset\n",
        "#(train_images , train_labels) ,(test_images,test_labels) = tf.keras.datasets.mnist.load_data()\n",
        "# in training GAN networks , there is no need to test data ,\n",
        "# so we replace test data(test_images,test_labels) with (_,_)\n",
        "\n",
        "(train_images , train_labels) ,(_,_) = tf.keras.datasets.mnist.load_data()"
      ],
      "metadata": {
        "id": "87I1rlmhuNe-"
      },
      "execution_count": 38,
      "outputs": []
    },
    {
      "cell_type": "markdown",
      "source": [
        "# Normalizing pixels :"
      ],
      "metadata": {
        "id": "Zu3yxp7ZyM2X"
      }
    },
    {
      "cell_type": "code",
      "source": [
        "# reshaping images to size 28*28 , and bc they are grayscale we consider only one channel for them .\n",
        "train_images = train_images.reshape(train_images.shape[0] ,28,28,1).astype(\"float32\")\n",
        "# we have 2 types of NORMALIZING :\n",
        "# divide pixels value into 255 ---> result will be in range of [0,1]\n",
        "# subtract 255/2=127.5 from pixels then divide them to 127.5\n",
        "train_images = (train_images -127.5) / 127.5 #normalize images to [-1 , 1]"
      ],
      "metadata": {
        "id": "XTpWynuOvX3_"
      },
      "execution_count": 39,
      "outputs": []
    },
    {
      "cell_type": "markdown",
      "source": [
        "# Hyperparameters :"
      ],
      "metadata": {
        "id": "RND3OINbyWG0"
      }
    },
    {
      "cell_type": "code",
      "source": [
        "BUFFER_SIZE = 60000\n",
        "BATCH_SIZE = 256"
      ],
      "metadata": {
        "id": "bfSTcpPCyLTL"
      },
      "execution_count": 40,
      "outputs": []
    },
    {
      "cell_type": "markdown",
      "source": [
        "# shuffle train data & define batch :"
      ],
      "metadata": {
        "id": "tTJldX0Vypp6"
      }
    },
    {
      "cell_type": "code",
      "source": [
        "train_dataset = tf.data.Dataset.from_tensor_slices(train_images).shuffle(BUFFER_SIZE).batch(BATCH_SIZE)"
      ],
      "metadata": {
        "id": "pDy1ds-DynNT"
      },
      "execution_count": 41,
      "outputs": []
    },
    {
      "cell_type": "markdown",
      "source": [
        "# Create the models :"
      ],
      "metadata": {
        "id": "Lj98k-8pSvGk"
      }
    },
    {
      "cell_type": "markdown",
      "source": [
        "# discriminator : (convolution)"
      ],
      "metadata": {
        "id": "BIZUm8lrS1bE"
      }
    },
    {
      "cell_type": "code",
      "source": [
        "def make_discriminator_model():\n",
        "  model = tf.keras.Sequential()\n",
        "  model.add(layers.Conv2D(64 , (5,5) , strides=(2,2) , padding=\"same\" , input_shape=[28,28,1]))\n",
        "\n",
        "  model.add(layers.LeakyReLU())\n",
        "  model.add(layers.Dropout(0.3))\n",
        "\n",
        "  model.add(layers.Conv2D(filters=128 , kernel_size=(5,5) , strides=(2,2) ,padding=\"same\"))\n",
        "  model.add(layers.LeakyReLU())\n",
        "  model.add(layers.Dropout(0.3))\n",
        "\n",
        "  model.add(layers.Flatten())\n",
        "  model.add(layers.Dense(1)) # 1 neuron in last layer bc of classification (real / fake)\n",
        "\n",
        "  return model\n"
      ],
      "metadata": {
        "id": "KEdmeXo-zYvf"
      },
      "execution_count": 42,
      "outputs": []
    },
    {
      "cell_type": "markdown",
      "source": [
        "# GENERATOR :"
      ],
      "metadata": {
        "id": "BqFKigF9VzPm"
      }
    },
    {
      "cell_type": "code",
      "source": [
        "def make_generator_model():\n",
        "  model = tf.keras.Sequential()\n",
        "  # here in first layer , we have dense\n",
        "  model.add(layers.Dense(7*7*256 , use_bias=False , input_shape=(100, )))\n",
        "  model.add(layers.BatchNormalization())\n",
        "  model.add(layers.LeakyReLU())\n",
        "  model.add(layers.Reshape((7,7,256)))\n",
        "\n",
        "  # deconvolution\n",
        "  model.add(layers.Conv2DTranspose(filters=128 , kernel_size=(5,5) , strides=(1,1) ,padding=\"same\" , use_bias=False))\n",
        "  model.add(layers.BatchNormalization())\n",
        "  model.add(layers.LeakyReLU())\n",
        "\n",
        "  model.add(layers.Conv2DTranspose(filters=64 , kernel_size=(5,5) , strides=(2,2) ,padding=\"same\" , use_bias=False))\n",
        "  model.add(layers.BatchNormalization())\n",
        "  model.add(layers.LeakyReLU())\n",
        "\n",
        "  # here in last layer , we have an image\n",
        "  model.add(layers.Conv2DTranspose(filters=1 , kernel_size=(5,5) , strides=(2,2) ,padding=\"same\" , use_bias=False ,activation=\"tanh\"))\n",
        "\n",
        "  return model"
      ],
      "metadata": {
        "id": "2aO_VTwsSuhY"
      },
      "execution_count": 43,
      "outputs": []
    },
    {
      "cell_type": "code",
      "source": [
        "generator = make_generator_model()\n",
        "noise = tf.random.normal((1,100))\n",
        "noise"
      ],
      "metadata": {
        "colab": {
          "base_uri": "https://localhost:8080/"
        },
        "id": "1C3077Qcbd2s",
        "outputId": "3d201b62-dcbb-4b86-c942-94fedef7cba9"
      },
      "execution_count": 44,
      "outputs": [
        {
          "output_type": "execute_result",
          "data": {
            "text/plain": [
              "<tf.Tensor: shape=(1, 100), dtype=float32, numpy=\n",
              "array([[ 6.4270574e-01,  1.3359981e+00, -1.3053768e+00, -6.0099566e-01,\n",
              "        -3.6476022e-01,  5.3018689e-01, -7.9806352e-01,  6.8007773e-01,\n",
              "         1.5037611e+00,  8.0531135e-02, -5.0530648e-01, -2.7687389e-01,\n",
              "        -3.8528547e-01, -9.2264259e-01,  8.0064410e-01,  6.3022786e-01,\n",
              "        -9.8219675e-01, -5.4004985e-01,  9.6238774e-01, -5.1214778e-01,\n",
              "         3.7123820e-01, -8.6074054e-01,  1.0892173e+00,  1.0732868e+00,\n",
              "         3.1704685e-01, -1.7459445e+00,  1.6753974e+00,  1.2548726e+00,\n",
              "        -7.4417281e-01,  8.5026979e-01,  4.4446003e-02, -6.9801503e-01,\n",
              "         2.5750577e-01,  7.2154385e-01,  4.0054742e-01,  1.0805073e+00,\n",
              "         6.2619507e-02, -5.7629532e-01, -5.8751378e-02,  5.3289540e-02,\n",
              "         4.8570466e-01, -2.6720625e-01,  6.6706282e-01, -1.1401274e+00,\n",
              "        -7.1411037e-01, -7.0356166e-01, -2.7702808e+00,  3.6809140e-01,\n",
              "        -1.5200062e+00,  7.0563126e-01,  7.7984101e-01, -5.4572845e-01,\n",
              "        -2.0266025e+00,  2.5177881e-02,  1.6062219e-01,  3.6744323e-01,\n",
              "         3.3559293e-01,  2.2308986e+00,  1.4751926e-03, -3.0835605e-01,\n",
              "        -1.9607465e+00, -8.2805836e-01, -2.0149839e-01, -1.0963687e+00,\n",
              "         2.7809554e-01, -8.7005585e-01,  4.0305498e-01, -8.1063682e-01,\n",
              "         5.4290289e-01, -1.6364981e+00,  1.0374525e+00,  4.2460123e-01,\n",
              "        -3.3191508e-01, -1.1686647e+00,  2.5652140e-01, -2.3038603e-01,\n",
              "        -1.2723918e-01,  1.0340819e+00,  1.5852031e-01,  8.0774374e-02,\n",
              "        -1.0849032e+00, -6.2061787e-01, -5.0252985e-02,  7.8351057e-01,\n",
              "        -1.4930993e+00, -8.9621317e-01, -1.0784686e+00, -3.9207503e-01,\n",
              "        -1.2195729e+00,  7.6479930e-01,  4.6564132e-01, -1.1653575e+00,\n",
              "         1.3736395e+00,  8.6211286e-02, -8.0416965e-01,  6.5508133e-01,\n",
              "         1.8802285e+00,  1.3500860e-01, -3.1709850e-01, -1.6415734e+00]],\n",
              "      dtype=float32)>"
            ]
          },
          "metadata": {},
          "execution_count": 44
        }
      ]
    },
    {
      "cell_type": "markdown",
      "source": [
        "# input of the GAN is noise"
      ],
      "metadata": {
        "id": "G7BYsxvE79rf"
      }
    },
    {
      "cell_type": "code",
      "source": [
        "# give noise to generator , and want an output from it without any training\n",
        "generated_image = generator(noise , training=False)"
      ],
      "metadata": {
        "id": "9CVrt3H-7U44"
      },
      "execution_count": 45,
      "outputs": []
    },
    {
      "cell_type": "code",
      "source": [
        "plt.imshow(generated_image[0 , : , : , 0] , cmap=\"gray\")"
      ],
      "metadata": {
        "colab": {
          "base_uri": "https://localhost:8080/",
          "height": 447
        },
        "id": "nSBxolqE74es",
        "outputId": "3a89c280-a250-496a-cd98-3c24b4ffa5ca"
      },
      "execution_count": 46,
      "outputs": [
        {
          "output_type": "execute_result",
          "data": {
            "text/plain": [
              "<matplotlib.image.AxesImage at 0x7b949c192260>"
            ]
          },
          "metadata": {},
          "execution_count": 46
        },
        {
          "output_type": "display_data",
          "data": {
            "text/plain": [
              "<Figure size 640x480 with 1 Axes>"
            ],
            "image/png": "[encoded data removed]"
          },
          "metadata": {}
        }
      ]
    },
    {
      "cell_type": "markdown",
      "source": [
        "# it's random Because it has not yet been trained .\n",
        "and generator's weights are random ."
      ],
      "metadata": {
        "id": "lKJ_XOEB82HI"
      }
    },
    {
      "cell_type": "markdown",
      "source": [
        "## call discriminator function :"
      ],
      "metadata": {
        "id": "ZuSxEVBK9hZs"
      }
    },
    {
      "cell_type": "code",
      "source": [
        "discriminator  = make_discriminator_model()\n",
        "\n",
        "# now give this random image to discriminator :\n",
        "# it will also give a random answer , bc its not been trained yet\n",
        "decision = discriminator(generated_image)\n",
        "decision\n",
        "\n",
        "# if decision > 0.5  = real\n",
        "# if decision < 0.5  = fake\n",
        "\n",
        "# so   :\n",
        "# discriminator says that generated image is fake image"
      ],
      "metadata": {
        "colab": {
          "base_uri": "https://localhost:8080/"
        },
        "id": "3_Cr4YyG80I1",
        "outputId": "c07eb072-329d-45d7-c83c-0c1a2a041741"
      },
      "execution_count": 47,
      "outputs": [
        {
          "output_type": "execute_result",
          "data": {
            "text/plain": [
              "<tf.Tensor: shape=(1, 1), dtype=float32, numpy=array([[-0.00157164]], dtype=float32)>"
            ]
          },
          "metadata": {},
          "execution_count": 47
        }
      ]
    },
    {
      "cell_type": "markdown",
      "source": [
        "# both of the discriminator and generator have to be trained , to give true outputs"
      ],
      "metadata": {
        "id": "fN_G-XdkBN0C"
      }
    },
    {
      "cell_type": "markdown",
      "source": [
        "we compute loss from discriminator output , loss should be binarycrossentropy , bc its a classification problem .\n",
        "\n",
        "categoricalcrossentropy is for multiple class classification."
      ],
      "metadata": {
        "id": "AEeZMke4krsU"
      }
    },
    {
      "cell_type": "markdown",
      "source": [
        "although , we can also say this ::\n",
        "bc of 2 class , i want 2 neurons in last layer\n",
        "there for , we should use categoricalcrossentropy"
      ],
      "metadata": {
        "id": "ufyf4oMslk5r"
      }
    },
    {
      "cell_type": "markdown",
      "source": [
        "لاسی که برای دیسکریمینیتور قراره حساب بشه‌\n",
        "‌قراره یک کراس انتروپی باشه که روی دیتاهای ریل محاسبه شده و یک کراس انتروپی باشه که روی دیتاهای فیک محاسبه شده و قراره که اینا باهم جمع بشن\n"
      ],
      "metadata": {
        "id": "hIcUkEZxmNZc"
      }
    },
    {
      "cell_type": "code",
      "source": [
        "cross_entropy = tf.keras.losses.BinaryCrossentropy(from_logits=True)\n",
        "\n",
        "def discriminator_loss(real_output , fake_output):\n",
        "  real_loss = cross_entropy( tf.ones_like(real_output), real_output)\n",
        "  fake_loss = cross_entropy(tf.zeros_like(fake_output) , fake_output)\n",
        "  total_loss = real_loss + fake_loss\n",
        "  return total_loss\n",
        "\n",
        "#   total_loss is discriminator loss\n",
        "\n",
        "\n",
        "def generator_loss(fake_output):\n",
        "  return cross_entropy( tf.ones_like(fake_output), fake_output)"
      ],
      "metadata": {
        "id": "4jHAzdntBKYP"
      },
      "execution_count": 48,
      "outputs": []
    },
    {
      "cell_type": "code",
      "source": [
        "generator_optimizer = tf.keras.optimizers.Adam(0.0001)\n",
        "\n",
        "discriminator_optimizer = tf.keras.optimizers.Adam(0.0001)"
      ],
      "metadata": {
        "id": "ocTEhFiHo4ru"
      },
      "execution_count": 49,
      "outputs": []
    },
    {
      "cell_type": "markdown",
      "source": [
        "# way to save train process in case of losing GPU while training ::\n",
        "create checkpoint"
      ],
      "metadata": {
        "id": "Mj0zAa_Upxl6"
      }
    },
    {
      "cell_type": "code",
      "source": [
        "checkpoint_dir = \"./training_checkpoints\"\n",
        "checkpoint_prefix = os.path.join(checkpoint_dir , \"chpt\")\n",
        "checkpoint = tf.train.Checkpoint(generator_optimizer = generator_optimizer ,\n",
        "                                 discriminator_optimizer= discriminator_optimizer ,\n",
        "                                 generator = generator ,\n",
        "                                 discriminator = discriminator)"
      ],
      "metadata": {
        "id": "BgU7neW5o4Y3"
      },
      "execution_count": 50,
      "outputs": []
    },
    {
      "cell_type": "markdown",
      "source": [
        "here we dont have accuracy , but we wnt to see real images in output"
      ],
      "metadata": {
        "id": "I8XU-iRsrlOy"
      }
    },
    {
      "cell_type": "code",
      "source": [
        "EPOCHS = 50\n",
        "noise_dimension = 100\n",
        "num_example_to_generate = 16\n",
        "\n",
        "# seed is a random array with dimansion of 7 * 100\n",
        "# we want to see outputs while training process\n",
        "seed = tf.random.normal([num_example_to_generate  ,  noise_dimension])"
      ],
      "metadata": {
        "id": "AiiLAffbo4RV"
      },
      "execution_count": 51,
      "outputs": []
    },
    {
      "cell_type": "code",
      "source": [
        "def generate_and_save_images(model, epoch, test_input):\n",
        "\n",
        "  predictions = model(test_input, training=False)\n",
        "  fig = plt.figure(figsize=(4, 4))\n",
        "\n",
        "  for i in range(predictions.shape[0]):\n",
        "      plt.subplot(4, 4, i+1)\n",
        "      plt.imshow(predictions[i, :, :, 0] * 127.5  + 127.5  , cmap=\"gray\")\n",
        "      plt.axis('off')\n",
        "\n",
        "  plt.savefig('image_at_epoch_{:04d}.png'.format(epoch))\n",
        "  plt.show()"
      ],
      "metadata": {
        "id": "4W11shVqxbhI"
      },
      "execution_count": 52,
      "outputs": []
    },
    {
      "cell_type": "code",
      "source": [
        "@tf.function\n",
        "def train_step(images):\n",
        "    noise = tf.random.normal([BATCH_SIZE, noise_dimension])\n",
        "\n",
        "    with tf.GradientTape() as gen_tape, tf.GradientTape() as disc_tape:\n",
        "        # some noises enter into generator network\n",
        "        # and some images will be generated\n",
        "        generated_images = generator(noise, training=True)\n",
        "\n",
        "        # with <<<< training=True >>>> , weights will be updated and gradients will be computed\n",
        "\n",
        "        # some real images enter into descriminator , and it learns them\n",
        "        real_output = discriminator(images, training=True)\n",
        "        # then , generated images , enter into descriminator , and it learns them\n",
        "        fake_output = discriminator(generated_images, training=True)\n",
        "\n",
        "        # fine tune training\n",
        "        #it will only learn fake outputs\n",
        "        gen_loss = generator_loss(fake_output)\n",
        "\n",
        "        # it should learn both real and fake\n",
        "        disc_loss = discriminator_loss(real_output, fake_output)\n",
        "\n",
        "    gradients_of_generator = gen_tape.gradient(gen_loss, generator.trainable_variables)\n",
        "    gradients_of_discriminator = disc_tape.gradient(disc_loss, discriminator.trainable_variables)\n",
        "\n",
        "    generator_optimizer.apply_gradients(zip(gradients_of_generator, generator.trainable_variables))\n",
        "    discriminator_optimizer.apply_gradients(zip(gradients_of_discriminator, discriminator.trainable_variables))\n",
        "\n",
        "\n",
        "\n",
        "def train(dataset, epochs):\n",
        "  for epoch in range(epochs):\n",
        "    start = time.time()\n",
        "    for image_batch in (dataset):\n",
        "      train_step(image_batch)\n",
        "\n",
        "    # for display output\n",
        "    # produce images for GIF\n",
        "    display.clear_output(wait=True)\n",
        "    generate_and_save_images(generator , epoch + 1 , seed)\n",
        "    # save model every 15 epochs\n",
        "    if (epoch + 1) % 15 ==0:\n",
        "      checkpoint.save(file_prefix = checkpoint_prefix)\n",
        "    print ('time for epoch {} is {} sec'.format(epoch + 1, time.time()-start))\n",
        "\n",
        "  display.clear_output(wait=True)\n",
        "  generate_and_save_images(generator , epochs , seed)\n",
        "\n",
        ""
      ],
      "metadata": {
        "id": "nlx0PU-Ho4Dq"
      },
      "execution_count": 53,
      "outputs": []
    },
    {
      "cell_type": "code",
      "source": [
        "train(train_dataset, EPOCHS)\n"
      ],
      "metadata": {
        "colab": {
          "base_uri": "https://localhost:8080/",
          "height": 345
        },
        "id": "s3DlTv4EzF04",
        "outputId": "8f9bab97-4876-4a78-dfd8-7280f2341df2"
      },
      "execution_count": 54,
      "outputs": [
        {
          "output_type": "display_data",
          "data": {
            "text/plain": [
              "<Figure size 400x400 with 16 Axes>"
            ],
            "image/png": "[encoded data removed]"
          },
          "metadata": {}
        }
      ]
    },
    {
      "cell_type": "markdown",
      "source": [
        "# create a GIF file :"
      ],
      "metadata": {
        "id": "WrpwoKnt06Uh"
      }
    },
    {
      "cell_type": "code",
      "source": [
        "anim_file ='mnist.gif'\n",
        "with imageio.get_writer(anim_file, mode='I') as writer:\n",
        "  filenames = glob.glob('image*.png')\n",
        "  filenames = sorted(filenames)\n",
        "  for filename in filenames:\n",
        "      image = imageio.imread(filename)\n",
        "      writer.append_data(image)\n",
        "  image = imageio.imread(filename)\n",
        "  writer.append_data(image)"
      ],
      "metadata": {
        "colab": {
          "base_uri": "https://localhost:8080/"
        },
        "id": "iUtqxI7505pd",
        "outputId": "108764b7-a083-4008-9c09-1bb27f2f76b4"
      },
      "execution_count": 56,
      "outputs": [
        {
          "output_type": "stream",
          "name": "stderr",
          "text": [
            "<ipython-input-56-860e7e443572>:6: DeprecationWarning: Starting with ImageIO v3 the behavior of this function will switch to that of iio.v3.imread. To keep the current behavior (and make this warning disappear) use `import imageio.v2 as imageio` or call `imageio.v2.imread` directly.\n",
            "  image = imageio.imread(filename)\n",
            "<ipython-input-56-860e7e443572>:8: DeprecationWarning: Starting with ImageIO v3 the behavior of this function will switch to that of iio.v3.imread. To keep the current behavior (and make this warning disappear) use `import imageio.v2 as imageio` or call `imageio.v2.imread` directly.\n",
            "  image = imageio.imread(filename)\n"
          ]
        }
      ]
    }
  ]
}